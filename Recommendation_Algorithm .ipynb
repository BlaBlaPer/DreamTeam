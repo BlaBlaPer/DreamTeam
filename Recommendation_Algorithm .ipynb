{
 "cells": [
  {
   "cell_type": "code",
   "execution_count": 2,
   "metadata": {
    "colab": {
     "autoexec": {
      "startup": false,
      "wait_interval": 0
     }
    },
    "colab_type": "code",
    "collapsed": true,
    "id": "pd5xHH3N_j-V"
   },
   "outputs": [],
   "source": [
    "import pandas as pd\n",
    "import numpy as np\n",
    "from sklearn.metrics import *"
   ]
  },
  {
   "cell_type": "code",
   "execution_count": 5,
   "metadata": {
    "colab": {
     "autoexec": {
      "startup": false,
      "wait_interval": 0
     }
    },
    "colab_type": "code",
    "id": "QLz18Dee_j-e"
   },
   "outputs": [],
   "source": [
    "df = pd.read_csv('data_filt_aug.csv') # data concatenate with lang country etc \n",
    "df=df.drop_duplicates(subset='user_id')\n",
    "#Random_value_for_the moment , need to be replaced by the good one.\n",
    "\n",
    "df['sniper_score']=np.random.rand(len(df))\n",
    "df['assault_score']=np.random.rand(len(df))\n",
    "df['support_score']=np.random.rand(len(df))\n",
    "df['captain_score']=np.random.rand(len(df))\n",
    "df['strategist_score']=np.random.rand(len(df))"
   ]
  },
  {
   "cell_type": "code",
   "execution_count": 6,
   "metadata": {},
   "outputs": [
    {
     "data": {
      "text/html": [
       "<div>\n",
       "<style scoped>\n",
       "    .dataframe tbody tr th:only-of-type {\n",
       "        vertical-align: middle;\n",
       "    }\n",
       "\n",
       "    .dataframe tbody tr th {\n",
       "        vertical-align: top;\n",
       "    }\n",
       "\n",
       "    .dataframe thead th {\n",
       "        text-align: right;\n",
       "    }\n",
       "</style>\n",
       "<table border=\"1\" class=\"dataframe\">\n",
       "  <thead>\n",
       "    <tr style=\"text-align: right;\">\n",
       "      <th></th>\n",
       "      <th>Unnamed: 0</th>\n",
       "      <th>user_id</th>\n",
       "      <th>nickname</th>\n",
       "      <th>total_kills</th>\n",
       "      <th>total_deaths</th>\n",
       "      <th>total_time_played</th>\n",
       "      <th>total_kills_headshot</th>\n",
       "      <th>total_shots_hit</th>\n",
       "      <th>total_mvps</th>\n",
       "      <th>total_wins</th>\n",
       "      <th>...</th>\n",
       "      <th>ratio_hit_kill</th>\n",
       "      <th>ratio_hit_fired</th>\n",
       "      <th>ratio_win_round</th>\n",
       "      <th>lang</th>\n",
       "      <th>country</th>\n",
       "      <th>sniper_score</th>\n",
       "      <th>assault_score</th>\n",
       "      <th>support_score</th>\n",
       "      <th>captain_score</th>\n",
       "      <th>strategist_score</th>\n",
       "    </tr>\n",
       "  </thead>\n",
       "  <tbody>\n",
       "    <tr>\n",
       "      <th>0</th>\n",
       "      <td>0</td>\n",
       "      <td>56371</td>\n",
       "      <td>BraydenBVR</td>\n",
       "      <td>7206.0</td>\n",
       "      <td>6521.0</td>\n",
       "      <td>39744916.0</td>\n",
       "      <td>2873.0</td>\n",
       "      <td>23565.0</td>\n",
       "      <td>825.0</td>\n",
       "      <td>2977.0</td>\n",
       "      <td>...</td>\n",
       "      <td>0.305792</td>\n",
       "      <td>0.188986</td>\n",
       "      <td>0.497743</td>\n",
       "      <td>en</td>\n",
       "      <td>us</td>\n",
       "      <td>0.777509</td>\n",
       "      <td>0.808472</td>\n",
       "      <td>0.047330</td>\n",
       "      <td>0.691375</td>\n",
       "      <td>0.803528</td>\n",
       "    </tr>\n",
       "    <tr>\n",
       "      <th>1</th>\n",
       "      <td>1</td>\n",
       "      <td>66955</td>\n",
       "      <td>LittleBigFg</td>\n",
       "      <td>15507.0</td>\n",
       "      <td>12568.0</td>\n",
       "      <td>34471515.0</td>\n",
       "      <td>3481.0</td>\n",
       "      <td>40941.0</td>\n",
       "      <td>1067.0</td>\n",
       "      <td>7414.0</td>\n",
       "      <td>...</td>\n",
       "      <td>0.378765</td>\n",
       "      <td>0.233820</td>\n",
       "      <td>0.853361</td>\n",
       "      <td>ru</td>\n",
       "      <td>ru</td>\n",
       "      <td>0.764931</td>\n",
       "      <td>0.835938</td>\n",
       "      <td>0.816492</td>\n",
       "      <td>0.599836</td>\n",
       "      <td>0.311619</td>\n",
       "    </tr>\n",
       "    <tr>\n",
       "      <th>2</th>\n",
       "      <td>2</td>\n",
       "      <td>4042</td>\n",
       "      <td>VACooo</td>\n",
       "      <td>57221.0</td>\n",
       "      <td>55091.0</td>\n",
       "      <td>28495214.0</td>\n",
       "      <td>21566.0</td>\n",
       "      <td>147147.0</td>\n",
       "      <td>6566.0</td>\n",
       "      <td>24903.0</td>\n",
       "      <td>...</td>\n",
       "      <td>0.388870</td>\n",
       "      <td>0.144602</td>\n",
       "      <td>0.573934</td>\n",
       "      <td>ru</td>\n",
       "      <td>ge</td>\n",
       "      <td>0.121570</td>\n",
       "      <td>0.727647</td>\n",
       "      <td>0.219712</td>\n",
       "      <td>0.030917</td>\n",
       "      <td>0.741702</td>\n",
       "    </tr>\n",
       "    <tr>\n",
       "      <th>3</th>\n",
       "      <td>3</td>\n",
       "      <td>87560</td>\n",
       "      <td>EventGraph</td>\n",
       "      <td>198934.0</td>\n",
       "      <td>170105.0</td>\n",
       "      <td>28147897.0</td>\n",
       "      <td>115160.0</td>\n",
       "      <td>366917.0</td>\n",
       "      <td>38962.0</td>\n",
       "      <td>1306899.0</td>\n",
       "      <td>...</td>\n",
       "      <td>0.542177</td>\n",
       "      <td>0.573855</td>\n",
       "      <td>0.527337</td>\n",
       "      <td>sv</td>\n",
       "      <td>se</td>\n",
       "      <td>0.811519</td>\n",
       "      <td>0.266277</td>\n",
       "      <td>0.888977</td>\n",
       "      <td>0.676056</td>\n",
       "      <td>0.502791</td>\n",
       "    </tr>\n",
       "    <tr>\n",
       "      <th>5</th>\n",
       "      <td>5</td>\n",
       "      <td>22706</td>\n",
       "      <td>0rdain</td>\n",
       "      <td>5649.0</td>\n",
       "      <td>4501.0</td>\n",
       "      <td>26247390.0</td>\n",
       "      <td>2451.0</td>\n",
       "      <td>17386.0</td>\n",
       "      <td>605.0</td>\n",
       "      <td>2528.0</td>\n",
       "      <td>...</td>\n",
       "      <td>0.324917</td>\n",
       "      <td>0.209599</td>\n",
       "      <td>0.548611</td>\n",
       "      <td>en</td>\n",
       "      <td>ca</td>\n",
       "      <td>0.737199</td>\n",
       "      <td>0.609903</td>\n",
       "      <td>0.362983</td>\n",
       "      <td>0.620232</td>\n",
       "      <td>0.367440</td>\n",
       "    </tr>\n",
       "  </tbody>\n",
       "</table>\n",
       "<p>5 rows × 29 columns</p>\n",
       "</div>"
      ],
      "text/plain": [
       "   Unnamed: 0  user_id     nickname  total_kills  total_deaths  \\\n",
       "0           0    56371   BraydenBVR       7206.0        6521.0   \n",
       "1           1    66955  LittleBigFg      15507.0       12568.0   \n",
       "2           2     4042       VACooo      57221.0       55091.0   \n",
       "3           3    87560   EventGraph     198934.0      170105.0   \n",
       "5           5    22706       0rdain       5649.0        4501.0   \n",
       "\n",
       "   total_time_played  total_kills_headshot  total_shots_hit  total_mvps  \\\n",
       "0         39744916.0                2873.0          23565.0       825.0   \n",
       "1         34471515.0                3481.0          40941.0      1067.0   \n",
       "2         28495214.0               21566.0         147147.0      6566.0   \n",
       "3         28147897.0              115160.0         366917.0     38962.0   \n",
       "5         26247390.0                2451.0          17386.0       605.0   \n",
       "\n",
       "   total_wins        ...         ratio_hit_kill  ratio_hit_fired  \\\n",
       "0      2977.0        ...               0.305792         0.188986   \n",
       "1      7414.0        ...               0.378765         0.233820   \n",
       "2     24903.0        ...               0.388870         0.144602   \n",
       "3   1306899.0        ...               0.542177         0.573855   \n",
       "5      2528.0        ...               0.324917         0.209599   \n",
       "\n",
       "   ratio_win_round  lang  country sniper_score assault_score  support_score  \\\n",
       "0         0.497743    en       us     0.777509      0.808472       0.047330   \n",
       "1         0.853361    ru       ru     0.764931      0.835938       0.816492   \n",
       "2         0.573934    ru       ge     0.121570      0.727647       0.219712   \n",
       "3         0.527337    sv       se     0.811519      0.266277       0.888977   \n",
       "5         0.548611    en       ca     0.737199      0.609903       0.362983   \n",
       "\n",
       "   captain_score  strategist_score  \n",
       "0       0.691375          0.803528  \n",
       "1       0.599836          0.311619  \n",
       "2       0.030917          0.741702  \n",
       "3       0.676056          0.502791  \n",
       "5       0.620232          0.367440  \n",
       "\n",
       "[5 rows x 29 columns]"
      ]
     },
     "execution_count": 6,
     "metadata": {},
     "output_type": "execute_result"
    }
   ],
   "source": [
    "df.head()"
   ]
  },
  {
   "cell_type": "code",
   "execution_count": 25,
   "metadata": {
    "colab": {
     "autoexec": {
      "startup": false,
      "wait_interval": 0
     }
    },
    "colab_type": "code",
    "id": "KTkqnTIm_j-i"
   },
   "outputs": [],
   "source": [
    "def graph_connectdness(team_meamber_id,free_member_id,nb_pre_selection=50,data=df):\n",
    "    # Return the list of the 40 people the most connected to the team given individual_performances\n",
    "    \n",
    "    df_ratio=pd.DataFrame(data[data.user_id.isin(free_member_id)][['ratio_headshot','ratio_hit_kill','ratio_hit_fired','ratio_win_round']]             \n",
    "         )\n",
    "    team_player_=data[data.user_id.isin(team_meamber_id)][['ratio_headshot','ratio_hit_kill','ratio_hit_fired','ratio_win_round']]\n",
    "    e_d=euclidean_distances(team_player_.as_matrix(),df_ratio.as_matrix())\n",
    "    weight=len(e_d[0])-np.argsort(np.argsort(e_d))\n",
    "    k=np.argsort(np.sum(weight,axis=0))\n",
    "   \n",
    "    return  free_member_id[k[len(k)-nb_pre_selection:]]\n",
    "\n",
    "\n",
    "\n",
    "def graph_connectdness_boo(team_meamber_id,free_member_id,nb_pre_selection=400,data=df):\n",
    "    \n",
    "    #return the list of the 200 people the most connected in term of lang, country, rank_id and and goal_id \n",
    "    cols_to_transform =['lang','country','rank_id','goal_id']\n",
    "    df = pd.get_dummies(data,columns=cols_to_transform)\n",
    "    df_ratio=data[data.user_id.isin(free_member_id)].iloc[:,24:]             \n",
    "    team_player_=data[data.user_id.isin(team_meamber_id)].iloc[:,24:] \n",
    "    test=pairwise_distances(team_player_.as_matrix(),df_ratio.as_matrix(), metric='manhattan')\n",
    "\n",
    "    return free_member_id[np.argsort(np.sum(test,axis=0))[:nb_pre_selection]]\n",
    "\n",
    "def set_recommandation(team_meamber_id,free_member_id,nb_recommmand=4,pre_selection=2,data=df):\n",
    "    if pre_selection==2:\n",
    "        free_member_id=graph_connectdness_boo(team_meamber_id,free_member_id,nb_pre_selection=400)\n",
    "       \n",
    "        free_member_id=graph_connectdness(team_meamber_id,free_member_id,nb_pre_selection=40)\n",
    "    if pre_selection==1:\n",
    "         free_member_id=graph_connectdness(team_meamber_id,free_member_id,nb_pre_selection=40)\n",
    "        \n",
    "    team_player_=data[data.user_id.isin(team_meamber_id)][['sniper_score','assault_score','captain_score','strategist_score']]\n",
    "    df_ratio=pd.DataFrame(data[data.user_id.isin(free_member_id)][['sniper_score','assault_score','captain_score','strategist_score']])\n",
    "    feature_to_improve = team_player_.mean().idxmin()\n",
    "    def_score=[]\n",
    "    for i,j in enumerate(free_member_id):\n",
    "        score=team_player_.append(df_ratio.iloc[i]).mean()[feature_to_improve]\n",
    "        def_score.append(score)\n",
    "    return free_member_id[np.argsort(def_score)[(len(free_member_id)-nb_recommmand-1):]]\n"
   ]
  },
  {
   "cell_type": "code",
   "execution_count": null,
   "metadata": {
    "collapsed": true
   },
   "outputs": [],
   "source": [
    " print(df_ratio)\n",
    "    team_player_=data[data.user_id.isin(team_meamber_id)][['ratio_headshot','ratio_hit_kill','ratio_hit_fired','ratio_win_round']]\n",
    "    print(    team_player_)\n",
    "    e_d=euclidean_distances(team_player_.as_matrix(),df_ratio.as_matrix())\n",
    "    print(team_player_.shape)\n",
    "    print(e_d.shape)\n",
    "    weight=len(e_d[0])-np.argsort(np.argsort(e_d))\n",
    "\n",
    "    k=np.argsort(np.sum(weight,axis=0))"
   ]
  },
  {
   "cell_type": "markdown",
   "metadata": {
    "colab_type": "text",
    "id": "yPEDu42F_j-m"
   },
   "source": [
    "## Example"
   ]
  },
  {
   "cell_type": "code",
   "execution_count": 27,
   "metadata": {
    "colab": {
     "autoexec": {
      "startup": false,
      "wait_interval": 0
     },
     "output_extras": [
      {}
     ]
    },
    "colab_type": "code",
    "id": "zLR-FwXG_j-n",
    "outputId": "696ece05-46ae-457f-c0f8-dc4057be3725"
   },
   "outputs": [
    {
     "name": "stdout",
     "output_type": "stream",
     "text": [
      "        ratio_headshot  ratio_hit_kill  ratio_hit_fired  ratio_win_round\n",
      "274           0.579503        0.317492         0.206185         0.553369\n",
      "566           0.410918        0.378716         0.193832         0.517358\n",
      "570           0.391749        0.334304         0.213586         0.507778\n",
      "1007          0.452967        0.339144         0.175071         0.509181\n",
      "1375          0.576082        0.305364         0.205117         0.502886\n",
      "2293          0.371048        0.344893         0.191950         0.526221\n",
      "2461          0.333567        0.295012         0.135429         0.500871\n",
      "3566          0.648449        0.331438         0.156064         0.518824\n",
      "3729          0.419080        0.345088         0.168343         0.504393\n",
      "3766          0.347248        0.346731         0.193497         0.491422\n",
      "4152          0.506955        0.286764         0.148227         0.501066\n",
      "4192          0.442344        0.498778         0.182966         0.528552\n",
      "4356          0.406674        0.342171         0.170922         0.503755\n",
      "5038          0.497934        0.337876         0.198611         0.495274\n",
      "5373          0.358189        0.321126         0.167201         0.503223\n",
      "6134          0.425554        0.347434         0.187106         0.543229\n",
      "6462          0.397007        0.325151         0.207272         0.516222\n",
      "6752          0.444763        0.310958         0.130871         0.478221\n",
      "6777          0.352308        0.353788         0.208545         0.508526\n",
      "6789          0.318119        0.327367         0.152667         0.490607\n",
      "6961          0.414597        0.295853         0.184512         0.498242\n",
      "7001          0.344493        0.408180         0.221071         0.487963\n",
      "7554          0.382816        0.320281         0.175028         0.745261\n",
      "7814          0.325806        0.301830         0.206356         0.506255\n",
      "7816          0.580075        0.379339         0.184149         0.520956\n",
      "7864          0.431842        0.303517         0.171025         0.510009\n",
      "8227          0.353060        0.326904         0.206089         0.509742\n",
      "8454          0.392651        0.345801         0.171272         0.492301\n",
      "8514          0.461169        0.299307         0.200754         0.507940\n",
      "8875          0.354100        0.345374         0.229771         0.498381\n",
      "...                ...             ...              ...              ...\n",
      "105000        0.406373        0.277294         0.188488         0.484600\n",
      "105622        0.308642        0.239615         0.138511         0.492588\n",
      "105629        0.425320        0.312300         0.221809         0.529030\n",
      "105774        0.475728        0.376319         0.174787         0.482342\n",
      "106197        0.322355        0.238868         0.121497         0.473808\n",
      "106202        0.398261        0.301244         0.175808         0.508000\n",
      "106444        0.243009        0.232511         0.123590         0.441690\n",
      "106966        0.344452        0.267731         0.172918         0.499047\n",
      "107110        0.388211        0.329632         0.198802         0.524855\n",
      "107165        0.343965        0.347485         0.204220         0.523344\n",
      "107214        0.508197        0.302414         0.187555         0.519463\n",
      "107830        0.335278        0.344146         0.211237         0.482902\n",
      "107861        0.323486        0.277175         0.208191         0.505997\n",
      "108381        0.277608        0.308954         0.237594         0.502720\n",
      "109352        0.250000        0.292126         0.128835         0.475436\n",
      "110257        0.323699        0.222080         0.183165         0.455414\n",
      "110265        0.361446        0.306839         0.187496         0.476858\n",
      "110297        0.344008        0.236213         0.209531         0.557576\n",
      "110455        0.367483        0.380186         0.231819         0.553922\n",
      "110939        0.290698        0.284350         0.205449         0.509934\n",
      "110983        0.618913        0.664896         0.207214         0.581481\n",
      "111015        0.610329        0.351630         0.162389         0.562567\n",
      "111063        0.209052        0.182247         0.162186         0.480583\n",
      "111538        0.450331        0.216332         0.081915         0.495979\n",
      "111665        0.327869        0.276018         0.200613         0.437811\n",
      "111847        0.393496        0.214360         0.171683         0.333333\n",
      "111952        0.278547        0.502172         0.235090         0.557377\n",
      "112143        0.544118        0.337190         0.197583         0.548872\n",
      "112201        0.425373        0.252830         0.204082         0.439189\n",
      "112714        0.453947        0.335541         0.320594         0.945946\n",
      "\n",
      "[400 rows x 4 columns]\n",
      "       ratio_headshot  ratio_hit_kill  ratio_hit_fired  ratio_win_round\n",
      "7291         0.427068        0.235709         0.175041         0.488246\n",
      "16311        0.373708        0.297915         0.203627         0.508717\n",
      "37955        0.313935        0.296185         0.156803         0.486160\n",
      "89028        0.240366        0.276543         0.181318         0.491073\n",
      "(4, 4)\n",
      "(4, 400)\n",
      "400\n",
      "[[ 61 292  30 ...,  93  91 179]\n",
      " [348 263 105 ..., 331 251 179]\n",
      " [199  89 237 ...,   1 251 179]\n",
      " [125  37  95 ..., 251  10 179]]\n",
      "[ 733  681  467  653  551 1079  908  740  734  417  708  675  548  989  977\n",
      "  981 1108 1053  641 1018  926  972  804 1019  400  676  852  334  598  561\n",
      " 1061  433  802  431  788  724  780  277  428  973  691  650  732 1081  869\n",
      "  517  614  780  746  826 1127  472  729  655  446  859 1105 1008  653  849\n",
      "  294  863  683 1097 1102  981  614  702 1163  629 1110  784  616 1079  939\n",
      "  960  757  915  603  808  361  703 1020  954  620  627 1001  875  706  682\n",
      "  677  795  710 1224  720 1106  531  825 1132  838 1062  977  401  663  945\n",
      "  970  987  925  668  693  953  730  764  471  633  873  772  594  922  624\n",
      "  870  591  706 1118  558  896  956 1028 1202 1097  696  663 1198  677  859\n",
      " 1005  636 1215  906  859  639  411 1147  897  701 1069  300  794  997  619\n",
      "  896  697  684  636 1109  738  688  926  390  402  842  849  872 1004  941\n",
      " 1085  953  746  636  955  370  978  537  903  449  630  382  894 1415  659\n",
      "  936  358 1107  900  997  903  540  631  853 1219  734 1160  722  532  929\n",
      "  988  533 1213  521  560  975  993  878  859  415  892  680  861 1132  950\n",
      " 1013  731  841  971  869  351  637 1112  568 1243  679  635  923  881  680\n",
      "  439  931 1056  970  931  393 1001  666  793 1146  761  738  817 1016  869\n",
      "  849 1095  463  868  722  540  861 1259 1056  719 1160  626  719  824 1114\n",
      " 1065 1155 1015  706  603  635  847  808  969  644  830  819 1334  834  468\n",
      "  535  757  855  704 1035  868 1005  995  830  757  515  381 1040  615  737\n",
      "  860  403 1066  640  322  865  752 1036  673  805  735 1111  641  747  951\n",
      "  478 1344  334  904 1397  212  693  497 1053  603 1019  910 1162  530  481\n",
      " 1000  948  682  655  920  459  943  800  724 1092 1001  857  475  388  683\n",
      " 1046  343  867  353  529  313  967  944  595  864 1086  814  967  582  474\n",
      "  525  944  556  782  734  966  562  754  937  813  468  731 1103  820  627\n",
      "  750  813 1227  943  552  858  742 1291 1396  460  241 1163 1012 1081  665\n",
      " 1259 1122 1133 1258 1320 1168  905  953  912  858  884  559  981 1371  976\n",
      "  729  433  911  795  364 1004   13  676  603  716]\n"
     ]
    },
    {
     "data": {
      "text/plain": [
       "array([92954, 38901, 49865, 64467, 14543])"
      ]
     },
     "execution_count": 27,
     "metadata": {},
     "output_type": "execute_result"
    }
   ],
   "source": [
    "player=np.random.choice(list(set(df.user_id)),3000,replace=False)\n",
    "free_player = player[:2996]\n",
    "team_player = player[2996:]\n",
    "set_recommandation(team_player,free_player,pre_selection=2)"
   ]
  },
  {
   "cell_type": "code",
   "execution_count": 0,
   "metadata": {
    "colab": {
     "autoexec": {
      "startup": false,
      "wait_interval": 0
     }
    },
    "colab_type": "code",
    "collapsed": true,
    "id": "fgKVSFGq_j-u"
   },
   "outputs": [],
   "source": [
    "\n"
   ]
  },
  {
   "cell_type": "code",
   "execution_count": null,
   "metadata": {
    "colab": {
     "autoexec": {
      "startup": false,
      "wait_interval": 0
     }
    },
    "colab_type": "code",
    "collapsed": true,
    "id": "vxqytVQ4_j-w"
   },
   "outputs": [],
   "source": []
  },
  {
   "cell_type": "code",
   "execution_count": null,
   "metadata": {
    "collapsed": true
   },
   "outputs": [],
   "source": []
  },
  {
   "cell_type": "code",
   "execution_count": null,
   "metadata": {
    "collapsed": true
   },
   "outputs": [],
   "source": []
  },
  {
   "cell_type": "code",
   "execution_count": 9,
   "metadata": {},
   "outputs": [
    {
     "name": "stdout",
     "output_type": "stream",
     "text": [
      "文档0与文档1的距离[[ 2.44948974]]\n",
      "文档0与文档2的距离[[ 2.64575131]]\n",
      "文档1与文档2的距离[[ 2.64575131]]\n"
     ]
    }
   ],
   "source": [
    "from sklearn.metrics.pairwise import euclidean_distances\n",
    "from sklearn.feature_extraction.text import CountVectorizer\n",
    "\n",
    "corpus = ['UNC played Duke in basketball','Duke lost the basketball game','I ate a sandwich']# 文集  \n",
    "vectorizer = CountVectorizer()# \n",
    "counts=vectorizer.fit_transform(corpus).todense()\n",
    "for x,y in [[0,1],[0,2],[1,2]]:\n",
    "    dist=euclidean_distances(counts[x],counts[y])\n",
    "    print('文档{}与文档{}的距离{}'.format(x,y,dist))"
   ]
  },
  {
   "cell_type": "code",
   "execution_count": null,
   "metadata": {
    "collapsed": true
   },
   "outputs": [],
   "source": []
  },
  {
   "cell_type": "code",
   "execution_count": null,
   "metadata": {
    "collapsed": true
   },
   "outputs": [],
   "source": []
  },
  {
   "cell_type": "code",
   "execution_count": null,
   "metadata": {
    "collapsed": true
   },
   "outputs": [],
   "source": []
  },
  {
   "cell_type": "code",
   "execution_count": null,
   "metadata": {
    "collapsed": true
   },
   "outputs": [],
   "source": []
  }
 ],
 "metadata": {
  "colab": {
   "default_view": {},
   "name": "Recommendation_Algorithm .ipynb",
   "provenance": [],
   "version": "0.3.2",
   "views": {}
  },
  "kernelspec": {
   "display_name": "Python 3",
   "language": "python",
   "name": "python3"
  },
  "language_info": {
   "codemirror_mode": {
    "name": "ipython",
    "version": 3
   },
   "file_extension": ".py",
   "mimetype": "text/x-python",
   "name": "python",
   "nbconvert_exporter": "python",
   "pygments_lexer": "ipython3",
   "version": "3.6.2"
  }
 },
 "nbformat": 4,
 "nbformat_minor": 1
}
